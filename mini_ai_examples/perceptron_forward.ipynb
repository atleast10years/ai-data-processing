{
 "cells": [
  {
   "cell_type": "markdown",
   "id": "d75cba4a",
   "metadata": {},
   "source": [
    "1. 퍼셉트론 Forward : z = X @ W + b -> 신경망의 가장 기본 단위"
   ]
  },
  {
   "cell_type": "code",
   "execution_count": 2,
   "id": "e21b8a06",
   "metadata": {},
   "outputs": [
    {
     "name": "stdout",
     "output_type": "stream",
     "text": [
      "(5, 3) (3, 1) 0.5\n",
      "[[ 0.1257 -0.1321  0.6404]\n",
      " [ 0.1049 -0.5357  0.3616]\n",
      " [ 1.304   0.9471 -0.7037]\n",
      " [-1.2654 -0.6233  0.0413]\n",
      " [-2.325  -0.2188 -1.2459]]\n",
      "[[-0.7323]\n",
      " [-0.5443]\n",
      " [-0.3163]]\n"
     ]
    }
   ],
   "source": [
    "import numpy as np\n",
    "\n",
    "np.set_printoptions(suppress=True, precision=4) # 지수 아닌 일반 소수 4자리로 표시\n",
    "rng = np.random.default_rng(0)\n",
    "\n",
    "# 데이터 준비 (배치 입력)\n",
    "N, D = 5, 3 # 샘플 수, 특성 수\n",
    "X = rng.normal(0.0, 1.0, size=(N, D))\n",
    "W = rng.normal(0.0, 1.0, size=(D, 1))\n",
    "b = 0.5\n",
    "\n",
    "print(X.shape, W.shape, b)\n",
    "print(X)\n",
    "print(W)"
   ]
  },
  {
   "cell_type": "code",
   "execution_count": 3,
   "id": "5f9c99d0",
   "metadata": {},
   "outputs": [
    {
     "name": "stdout",
     "output_type": "stream",
     "text": [
      "(5, 1)\n",
      "[[ 0.2773]\n",
      " [ 0.6004]\n",
      " [-0.7477]\n",
      " [ 1.7528]\n",
      " [ 2.7157]]\n"
     ]
    }
   ],
   "source": [
    "# Forward\n",
    "z = X @ W + b\n",
    "print(z.shape)\n",
    "print(z)"
   ]
  },
  {
   "cell_type": "code",
   "execution_count": 4,
   "id": "62554cb1",
   "metadata": {},
   "outputs": [
    {
     "name": "stdout",
     "output_type": "stream",
     "text": [
      "(5,)\n",
      "Checked\n"
     ]
    }
   ],
   "source": [
    "# 검증\n",
    "\n",
    "# 의도한 차원인지 확인 (문제 빨리 찾기)\n",
    "assert X.ndim == 2 and X.shape == (N, D)\n",
    "assert W.ndim == 2 and W.shape == (D, 1)\n",
    "assert np.isscalar(b)\n",
    "assert z.ndim == 2 and z.shape == (N, 1)\n",
    "\n",
    "# 필요 시 1차원으로 평탄화\n",
    "z_1d = z.ravel() # (N, 1) -> (N,)\n",
    "print(z_1d.shape)\n",
    "\n",
    "print(\"Checked\")"
   ]
  },
  {
   "cell_type": "code",
   "execution_count": 5,
   "id": "c24d6252",
   "metadata": {},
   "outputs": [
    {
     "name": "stdout",
     "output_type": "stream",
     "text": [
      "y_step: [1 1 0 1 1]\n",
      "y_sigm: [0.5689 0.6457 0.3213 0.8523 0.9379]\n",
      "y_relu: [0.2773 0.6004 0.     1.7528 2.7157]\n"
     ]
    }
   ],
   "source": [
    "\"\"\"\n",
    "활성화 함수\n",
    "- step : 기준 넘으면 1, 아니면 0 (이진판단)\n",
    "- sigmoid : 출력 0~1 사이 (확률해석)\n",
    "- ReLU : 음수는 0, 양수는 그대로 (심층신경망 기본)\n",
    "\"\"\"\n",
    "\n",
    "def step(x):\n",
    "  return (x>=0).astype(np.int32)\n",
    "\n",
    "def sigmoid(x):\n",
    "  return 1 / (1 + np.exp(-x))\n",
    "\n",
    "def relu(x):\n",
    "  return np.maximum(0, x)\n",
    "\n",
    "y_step = step(z)\n",
    "y_sigm = sigmoid(z)\n",
    "y_relu = relu(z)\n",
    "\n",
    "print(\"y_step:\", y_step.ravel())\n",
    "print(\"y_sigm:\", y_sigm.ravel())\n",
    "print(\"y_relu:\", y_relu.ravel())"
   ]
  },
  {
   "cell_type": "code",
   "execution_count": 6,
   "id": "449c984e",
   "metadata": {},
   "outputs": [
    {
     "name": "stdout",
     "output_type": "stream",
     "text": [
      "(3,) -0.3281653360658131\n",
      "(1, 3) (1, 1)\n"
     ]
    }
   ],
   "source": [
    "# 단일 vs 배치\n",
    "\n",
    "x_single = rng.normal(size=(D,))\n",
    "z_single = x_single @ W.squeeze() + b # .squeeze() : 차원 1일 축 제거 => (D, 1) -> (D,)\n",
    "                                      # 따랏 z_single은 스칼라\n",
    "print(x_single.shape, float(z_single))\n",
    "\n",
    "x_row = x_single.reshape(1, -1) # (1, 3)\n",
    "z_row = x_row @ W + b\n",
    "print(x_row.shape, z_row.shape)\n",
    "\n",
    "# >> 단일/배치 모두 '특성 차원'만 맞추면 Forward 동일하게 동작"
   ]
  },
  {
   "cell_type": "code",
   "execution_count": 7,
   "id": "cfa0242c",
   "metadata": {},
   "outputs": [
    {
     "name": "stdout",
     "output_type": "stream",
     "text": [
      "forward() 동치성 Checked\n"
     ]
    }
   ],
   "source": [
    "# loop보다 벡터화 권장 (결과는 동일)\n",
    "def forward(X, W, b):\n",
    "  return X @ W + b\n",
    "\n",
    "z_vec = forward(X, W, b)\n",
    "assert np.allclose(z, z_vec) # 상대오차 허용치 rtol=1e-5, 절대오차 허용치 atol=1e-8\n",
    "print(\"forward() 동치성 Checked\")"
   ]
  },
  {
   "cell_type": "markdown",
   "id": "8a9d383c",
   "metadata": {},
   "source": [
    "미니 과제"
   ]
  },
  {
   "cell_type": "code",
   "execution_count": 8,
   "id": "f7c24fe3",
   "metadata": {},
   "outputs": [
    {
     "name": "stdout",
     "output_type": "stream",
     "text": [
      "(5, 1) (5, 1)\n",
      "[[-0.0861]\n",
      " [ 0.0338]\n",
      " [-1.2126]\n",
      " [ 1.3431]\n",
      " [ 2.2251]]\n"
     ]
    }
   ],
   "source": [
    "# 샘플별 편향 b : scalar -> (N, 1)\n",
    "b = rng.normal(0, 0.1, size=(N,1))\n",
    "z = X @ W + b\n",
    "print(b.shape, z.shape)\n",
    "print(z)"
   ]
  },
  {
   "cell_type": "code",
   "execution_count": 10,
   "id": "b541ddb7",
   "metadata": {},
   "outputs": [
    {
     "data": {
      "image/png": "[encoded data removed]",
      "text/plain": [
       "<Figure size 640x480 with 1 Axes>"
      ]
     },
     "metadata": {},
     "output_type": "display_data"
    }
   ],
   "source": [
    "\"\"\"\n",
    "결정경계 그리기 (D=2)\n",
    "\n",
    "결정경계(Decision Boundary) : 분류 문제에서 클래스가 나뉘는 경계선(또는 면)\n",
    "- 퍼셉트론/로지스틱 회귀 z = X @ W + b에서 z=0일때, 즉 X @ W + b = 0 인 부분이 결정경계\n",
    "\n",
    "로지스틱 회귀 : 선형 결합 z = XW + b를 sigmoid에 넣어 0~1의 결과를 0.5 기준으로 나눠서 이진분류\n",
    "              즉, 선형 모델 + 시그모이드 = 확률 기반 이진 분류기\n",
    "\"\"\"\n",
    "import matplotlib.pyplot as plt\n",
    "\n",
    "# 샘플링 (D=2)\n",
    "X = rng.normal(size=(100, 2)) # ([x1], [x2])\n",
    "\n",
    "# 임의의 가중치, bias 고정\n",
    "W = np.array([[2.0], [-1.0]]) # (2, 1) => [[W1], [W2]] -- (2,)로 해도 브로드캐스팅되어 결과 같음. 신경망 수학 표기와 더 잘맞으므로 (2,1)로 사용\n",
    "b = 0.5\n",
    "\n",
    "# z = X @ W + b\n",
    "z = X @ W + b\n",
    "y = (z >= 0).astype(int)\n",
    "\n",
    "# 경계선: W1*x1 + W2*x2 + b = 0\n",
    "# 그래프 그리기 위해 y = x + ~ 식으로 변경 (x2를 y, x1을 x로 가정)\n",
    "# 따라서, x2 = -(W1/W2)*x1 - b/W2\n",
    "x1 = np.linspace(X[:,0].min(), X[:,0].max(), 100)\n",
    "x2 = -(W[0]/W[1])*x1 - b/W[1]\n",
    "\n",
    "plt.scatter(X[:,0], X[:,1], c=y.ravel(), cmap=\"bwr\", alpha=0.6)\n",
    "plt.plot(x1, x2, \"k--\", label=\"Decision Boundary\")\n",
    "plt.xlabel(\"x1\")\n",
    "plt.ylabel(\"x2\")\n",
    "plt.legend()\n",
    "plt.show()"
   ]
  },
  {
   "cell_type": "code",
   "execution_count": 12,
   "id": "b56829c6",
   "metadata": {},
   "outputs": [
    {
     "name": "stdout",
     "output_type": "stream",
     "text": [
      "     z  step(x)  sigmoid(x)  relu(x)\n",
      "0 -2.0      0.0    0.119203      0.0\n",
      "1 -0.5      0.0    0.377541      0.0\n",
      "2  0.0      1.0    0.500000      0.0\n",
      "3  0.5      1.0    0.622459      0.5\n",
      "4  2.0      1.0    0.880797      2.0\n"
     ]
    }
   ],
   "source": [
    "# step/sigmoid/ReLU 비교\n",
    "def step(x): return (x>=0).astype(int)\n",
    "def sigmoid(x): return 1/(1+np.exp(-x))\n",
    "def relu(x): return np.maximum(0, x)\n",
    "\n",
    "z_sample = np.array([[-2.0], [-0.5], [0.0], [0.5], [2.0]])\n",
    "\n",
    "table = np.concatenate([ # np.concatenate() : 여러 배열을 하나로 이어붙이기\n",
    "  z_sample,\n",
    "  step(z_sample),\n",
    "  sigmoid(z_sample),\n",
    "  relu(z_sample)\n",
    "], axis=1) # 열 방향(옆)\n",
    "\n",
    "import pandas as pd\n",
    "df = pd.DataFrame(table, columns=[\"z\", \"step(x)\", \"sigmoid(x)\", \"relu(x)\"])\n",
    "print(df)"
   ]
  }
 ],
 "metadata": {
  "kernelspec": {
   "display_name": "ai-dp",
   "language": "python",
   "name": "python3"
  },
  "language_info": {
   "codemirror_mode": {
    "name": "ipython",
    "version": 3
   },
   "file_extension": ".py",
   "mimetype": "text/x-python",
   "name": "python",
   "nbconvert_exporter": "python",
   "pygments_lexer": "ipython3",
   "version": "3.11.13"
  }
 },
 "nbformat": 4,
 "nbformat_minor": 5
}
