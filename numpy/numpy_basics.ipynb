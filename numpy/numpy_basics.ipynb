{
 "cells": [
  {
   "cell_type": "code",
   "execution_count": 1,
   "id": "636a908d",
   "metadata": {},
   "outputs": [
    {
     "name": "stdout",
     "output_type": "stream",
     "text": [
      "(3,) 1 int64\n",
      "(2, 3) 2 float64\n",
      "(5,) 1 float64\n",
      "[[ 0  1  2  3]\n",
      " [ 4  5  6  7]\n",
      " [ 8  9 10 11]] (3, 4)\n",
      "[1.2 2.8 3. ] [1 2 3] int32\n"
     ]
    }
   ],
   "source": [
    "import numpy as np\n",
    "\n",
    "# 생성\n",
    "a = np.array([1, 2, 3])\n",
    "b = np.zeros((2, 3))\n",
    "c = np.linspace(0, 1, 5)\n",
    "\n",
    "# 형태/차원/타입 확인\n",
    "print(a.shape, a.ndim, a.dtype)\n",
    "print(b.shape, b.ndim, b.dtype)\n",
    "print(c.shape, c.ndim, c.dtype)\n",
    "\n",
    "# reshape\n",
    "d = np.arange(12) # [0..11]\n",
    "M = d.reshape(3, -1)\n",
    "print(M, M.shape)\n",
    "\n",
    "# dtype 변환\n",
    "x = np.array([1.2, 2.8, 3.0])\n",
    "xi = x.astype(np.int32)\n",
    "print(x, xi, xi.dtype)"
   ]
  },
  {
   "cell_type": "code",
   "execution_count": null,
   "id": "1ccd9ced",
   "metadata": {},
   "outputs": [
    {
     "name": "stdout",
     "output_type": "stream",
     "text": [
      "[[ 0  1  2  3]\n",
      " [ 4  5  6  7]\n",
      " [ 8  9 10 11]]\n",
      "After Slicing\n",
      "[[1 2]\n",
      " [5 6]]\n",
      "[[ 0 -1 -1  3]\n",
      " [ 4 -1 -1  7]\n",
      " [ 8  9 10 11]]\n",
      "Boolean Masking\n",
      "[[False False False False]\n",
      " [ True False False False]\n",
      " [ True False  True False]]\n",
      "[ 4  8 10]\n",
      "Picking\n",
      "[[-1  3]\n",
      " [ 9 11]]\n",
      "Change value of Picked[0, 0]\n",
      "[[999   3]\n",
      " [  9  11]]\n",
      "[[ 0 -1 -1  3]\n",
      " [ 4 -1 -1  7]\n",
      " [ 8  9 10 11]]\n"
     ]
    }
   ],
   "source": [
    "import numpy as np\n",
    "\n",
    "A = np.arange(12).reshape(3, 4)\n",
    "print(A)\n",
    "\n",
    "# slicing (view)\n",
    "sub = A[:2, 1:3] # 2x2 : 0~1 rows, 1~2 cols\n",
    "print(\"After Slicing\", sub, sep='\\n')\n",
    "sub[:] = -1\n",
    "print(A)\n",
    "\n",
    "# bollean mask => 조건 결합(&, |, ~) 사용 가능\n",
    "mask = (A % 2 ==0) & (A > 0)\n",
    "print(\"Boolean Masking\", mask, sep='\\n')\n",
    "print(A[mask]) # 조건식에 해당하는 원소만 추출\n",
    "\n",
    "# fancy indexing (copy)\n",
    "rows = [0, 2] # 범위 아닌 선택\n",
    "cols = [1, 3] # 따라서, 0행과 2행 + 1열과 3열\n",
    "picked = A[np.ix_(rows, cols)]\n",
    "print(\"Picking\", picked, sep='\\n')\n",
    "picked[0, 0] = 999\n",
    "print(\"Change value of Picked[0, 0]\", picked, A, sep='\\n')"
   ]
  },
  {
   "cell_type": "code",
   "execution_count": 22,
   "id": "c9830590",
   "metadata": {},
   "outputs": [
    {
     "name": "stdout",
     "output_type": "stream",
     "text": [
      "Slicing\n",
      "[[ 1  2  3  4]\n",
      " [ 5  6  7  8]\n",
      " [ 9 10 11 12]]\n",
      "[[1 2 3]\n",
      " [5 6 7]]\n",
      "[[ 4]\n",
      " [ 8]\n",
      " [12]]\n",
      "[[ 2  4]\n",
      " [ 6  8]\n",
      " [10 12]]\n",
      "Changed: sub1 to -1\n",
      "[[-1 -1 -1  4]\n",
      " [-1 -1 -1  8]\n",
      " [ 9 10 11 12]]\n",
      "Masking\n",
      "[-6 -5 -4 -3 -2 -1  0  1  2  3  4  5  6]\n",
      "[1 2 3 4 5 6]\n",
      "[-6 -4 -2  0  2  4  6]\n",
      "[1 2 3 4]\n",
      "[2 4 6]\n",
      "Indexing\n",
      "[[ 1  2  3  4]\n",
      " [ 5  6  7  8]\n",
      " [ 9 10 11 12]\n",
      " [13 14 15 16]]\n",
      "[[ 2  4]\n",
      " [10 12]]\n",
      "Changed: picked to -1\n",
      "[[ 1  2  3  4]\n",
      " [ 5  6  7  8]\n",
      " [ 9 10 11 12]\n",
      " [13 14 15 16]]\n"
     ]
    }
   ],
   "source": [
    "# slicing, masking, indexing practice\n",
    "import numpy as np\n",
    "\n",
    "M = np.arange(1, 13).reshape(3, 4)\n",
    "print(\"Slicing\", M, sep='\\n')\n",
    "\n",
    "sub1 = M[:2, :3]\n",
    "sub2 = M[:, -1:]\n",
    "sub3 = M[:, 1::2]\n",
    "print(sub1, sub2, sub3, sep='\\n')\n",
    "\n",
    "sub1[:] = -1\n",
    "print(\"Changed: sub1 to -1\", M, sep='\\n')\n",
    "\n",
    "A = np.arange(-6, 7) # -6 ~ 6\n",
    "print(\"Masking\", A, sep='\\n')\n",
    "\n",
    "mask1 = A > 0\n",
    "mask2 = A % 2 == 0\n",
    "mask3 = (A > 0) & (A < 5)\n",
    "mask4 = (A % 2 == 0) & (A > 0)\n",
    "print(A[mask1], A[mask2], A[mask3], A[mask4], sep='\\n')\n",
    "\n",
    "B = np.arange(1, 17).reshape(4,4)\n",
    "print(\"Indexing\", B, sep='\\n')\n",
    "\n",
    "rows = [0, 2]\n",
    "cols = [1, 3]\n",
    "picked = B[np.ix_(rows, cols)]\n",
    "print(picked)\n",
    "picked[:] = -1\n",
    "print(\"Changed: picked to -1\", B, sep='\\n')\n"
   ]
  },
  {
   "cell_type": "code",
   "execution_count": null,
   "id": "03373afc",
   "metadata": {},
   "outputs": [
    {
     "name": "stdout",
     "output_type": "stream",
     "text": [
      "Broadcasting\n",
      "[[1 2 3]]\n",
      "[[10]\n",
      " [20]\n",
      " [30]]\n",
      "[[11 12 13]\n",
      " [21 22 23]\n",
      " [31 32 33]]\n",
      "Vectorization\n",
      "[ 0  2  4  6  8 10 12 14 16 18]\n"
     ]
    }
   ],
   "source": [
    "import numpy as np\n",
    "\n",
    "# Broadcasting\n",
    "row = np.arange(1,4).reshape(1,3)\n",
    "col = np.arange(10, 40, 10).reshape(3,1)\n",
    "M = row + col\n",
    "print(\"Broadcasting\", row, col, M, sep='\\n') # 같은 값을 복사해서 맞춤\n",
    "\n",
    "# Vectorization\n",
    "X = np.arange(10)\n",
    "Y = X * 2 # X 각 요소에 2 곱함\n",
    "\n",
    "print(\"Vectorization\", Y, sep='\\n')"
   ]
  },
  {
   "cell_type": "code",
   "execution_count": null,
   "id": "0901f246",
   "metadata": {},
   "outputs": [
    {
     "name": "stdout",
     "output_type": "stream",
     "text": [
      "평균 height: 170.11599233493396\n",
      "heights의 표준편차: 5.8723572464841265\n",
      "heights의 중앙값: 170.15180367340935\n",
      "heights 백분위수(25%, 75%): [166.11445817 173.88766325]\n",
      "corr(heights, weights) ≈ -0.04\n"
     ]
    }
   ],
   "source": [
    "# 데이터는 분포를 가진다\n",
    "import numpy as np\n",
    "\n",
    "np.random.seed(42)\n",
    "n = 1000\n",
    "\n",
    "heights = np.random.normal(loc=170, scale=6, size=n) # cm\n",
    "weights = np.random.normal(loc=65, scale=8, size=n) # kg\n",
    "\n",
    "print(\"평균 height:\", heights.mean())\n",
    "print(\"heights의 표준편차:\", heights.std())\n",
    "print(\"heights의 중앙값:\", np.median(heights))\n",
    "print(\"heights 백분위수(25%, 75%):\", np.percentile(heights, [25, 75]))\n",
    "\n",
    "# 상관계수(correlation coefficient) 맛보기\n",
    "corr = np.corrcoef(heights, weights)[0, 1]\n",
    "print(\"corr(heights, weights) ≈\", round(corr, 3)) # round: 반올림"
   ]
  },
  {
   "cell_type": "code",
   "execution_count": 22,
   "id": "bb1c5a29",
   "metadata": {},
   "outputs": [
    {
     "name": "stdout",
     "output_type": "stream",
     "text": [
      "[0.1        0.50015721 1.86405235 2.26420955]\n"
     ]
    },
    {
     "data": {
      "text/plain": [
       "'\\nz를 Step이나 Sigmoid에 넣어서 0/1로 변환\\nex) y_pred = (z > 0.5).astype(int)\\n결과가 정답 y = [0, 1, 1, 0]과 일치해야 \"풀린 것\"\\n\\nXOR은 단층 퍼셉트론에서 어떤 W, b를 넣어도 [0,1,1,0] 불가능\\n=> 선형 분리 불가능 (직선 하나로 0과 1로 나눌 수 없음)\\n**(0,0), (1,1) : 0\\n  (0,1), (1,0) : 1\\n\\n>> 다층 퍼셉트론의 필요성\\n'"
      ]
     },
     "execution_count": 22,
     "metadata": {},
     "output_type": "execute_result"
    }
   ],
   "source": [
    "# 단층 퍼셉트론 forward\n",
    "import numpy as np\n",
    "\n",
    "# XOR 입력 데이터셋 (4샘플, 2특징)\n",
    "X = np.array([\n",
    "  [0, 0],\n",
    "  [0, 1],\n",
    "  [1, 0],\n",
    "  [1, 1]\n",
    "], dtype=np.float32) # (4,2)\n",
    "\n",
    "# 임의 가중치/편향\n",
    "np.random.seed(0)\n",
    "W = np.random.randn(2) # (2,)\n",
    "b = 0.1\n",
    "\n",
    "z = X @ W + b # (4,)\n",
    "print(z) # 선형결합 값\n",
    "\n",
    "\"\"\"\n",
    "z를 Step이나 Sigmoid에 넣어서 0/1로 변환\n",
    "ex) y_pred = (z > 0.5).astype(int)\n",
    "결과가 정답 y = [0, 1, 1, 0]과 일치해야 \"풀린 것\"\n",
    "\n",
    "XOR은 단층 퍼셉트론에서 어떤 W, b를 넣어도 [0,1,1,0] 불가능\n",
    "=> 선형 분리 불가능 (직선 하나로 0과 1로 나눌 수 없음)\n",
    "**(0,0), (1,1) : 0\n",
    "  (0,1), (1,0) : 1\n",
    "\n",
    ">> 다층 퍼셉트론의 필요성\n",
    "\"\"\""
   ]
  },
  {
   "cell_type": "code",
   "execution_count": null,
   "id": "d9fe16d8",
   "metadata": {},
   "outputs": [
    {
     "name": "stdout",
     "output_type": "stream",
     "text": [
      "(100,)\n",
      "[ 3.81343099 -2.45957597  3.57882295 -1.83644206 -1.92284099]\n"
     ]
    }
   ],
   "source": [
    "\"\"\"\n",
    "미니배치 퍼셉트론\n",
    "데이터셋 전체를 한 번에 전부 학습시키기 힘듦 -> 나눠서 처리 (배치,batch)\n",
    "=> 미니배치(mini-batch) : 보통 32, 64, 128\n",
    "\n",
    "데이터셋 X.shape = (n, d) (n개 샘플, d차원)\n",
    "가중치 W.shape = (d,)\n",
    "편향 b (스칼라 또는 shape 호환)\n",
    "Forward 계산:\n",
    "  z = X @ W + b => 결과는 (n,)\n",
    "\"\"\"\n",
    "\n",
    "import numpy as np\n",
    "\n",
    "np.random.seed(1) # 시드 고정\n",
    "n, d = 100, 3 # 샘플 100개, 특징 3개\n",
    "\n",
    "X = np.random.randn(n, d)\n",
    "W = np.random.randn(d)\n",
    "b = np.random.randn() # scalar\n",
    "\n",
    "z = X @ W + b # <- 벡터화 + 브로드캐스팅\n",
    "\n",
    "# 간단 검증\n",
    "assert z.ndim == 1 and z.shape[0] == X.shape[0]\n",
    "\n",
    "print(z.shape, z[:5], sep='\\n')"
   ]
  }
 ],
 "metadata": {
  "kernelspec": {
   "display_name": "ai-dp",
   "language": "python",
   "name": "python3"
  },
  "language_info": {
   "codemirror_mode": {
    "name": "ipython",
    "version": 3
   },
   "file_extension": ".py",
   "mimetype": "text/x-python",
   "name": "python",
   "nbconvert_exporter": "python",
   "pygments_lexer": "ipython3",
   "version": "3.11.13"
  }
 },
 "nbformat": 4,
 "nbformat_minor": 5
}
